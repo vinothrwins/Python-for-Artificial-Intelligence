{
 "cells": [
  {
   "cell_type": "markdown",
   "metadata": {},
   "source": [
    "## 1. if statement"
   ]
  },
  {
   "cell_type": "code",
   "execution_count": 9,
   "metadata": {},
   "outputs": [
    {
     "name": "stdout",
     "output_type": "stream",
     "text": [
      "User age is 18 or younger\n"
     ]
    }
   ],
   "source": [
    "# Program to check whether the user age is below 18 or not\n",
    "user_age = 15\n",
    "\n",
    "if(user_age <= 18):\n",
    "    print(\"User age is 18 or younger\")"
   ]
  },
  {
   "cell_type": "code",
   "execution_count": 10,
   "metadata": {},
   "outputs": [
    {
     "name": "stdout",
     "output_type": "stream",
     "text": [
      "This line will be executed always\n"
     ]
    }
   ],
   "source": [
    "# Program to check whether the user age is below 18 or not\n",
    "user_age = 20 # Execute twice with both the conditions\n",
    "\n",
    "if(user_age <= 18):\n",
    "    print(\"User age is 18 or younger\")  \n",
    "    \n",
    "print(\"This line will be executed always\")    "
   ]
  },
  {
   "cell_type": "markdown",
   "metadata": {},
   "source": [
    "## 2. if ... else Statement"
   ]
  },
  {
   "cell_type": "code",
   "execution_count": 11,
   "metadata": {},
   "outputs": [
    {
     "name": "stdout",
     "output_type": "stream",
     "text": [
      "User age is above 18\n"
     ]
    }
   ],
   "source": [
    "# Program to check whether the user age is below 18 or not\n",
    "user_age = 22\n",
    "\n",
    "if(user_age <= 18):\n",
    "    print(\"User age is 18 or younger\")\n",
    "else:\n",
    "    print(\"User age is above 18\")"
   ]
  },
  {
   "cell_type": "code",
   "execution_count": 12,
   "metadata": {},
   "outputs": [
    {
     "name": "stdout",
     "output_type": "stream",
     "text": [
      "Positive number\n"
     ]
    }
   ],
   "source": [
    "# Program to verify whether the number is positive or not\n",
    "num = 10 # Execute twice with negative value\n",
    "if num > 0:\n",
    "    print(\"Positive number\")\n",
    "else:\n",
    "    print(\"Negative Number\")"
   ]
  },
  {
   "cell_type": "code",
   "execution_count": 13,
   "metadata": {},
   "outputs": [
    {
     "name": "stdout",
     "output_type": "stream",
     "text": [
      "ZERO\n"
     ]
    }
   ],
   "source": [
    "# Program to verify whether the number is positive or not\n",
    "num = 0\n",
    "\n",
    "if num > 0:\n",
    "    print(\"Positive number\")\n",
    "elif num == 0:\n",
    "    print(\"ZERO\")\n",
    "else:\n",
    "    print(\"Negative Number\") "
   ]
  },
  {
   "cell_type": "markdown",
   "metadata": {},
   "source": [
    "## 3. if...elif...else Statement"
   ]
  },
  {
   "cell_type": "code",
   "execution_count": 14,
   "metadata": {},
   "outputs": [
    {
     "name": "stdout",
     "output_type": "stream",
     "text": [
      "Three digit number\n"
     ]
    }
   ],
   "source": [
    "# Program to verify total number of digits\n",
    "num = 100\n",
    "if 9 < num < 99:\n",
    "    print(\"Two digit number\")\n",
    "elif 99 < num < 999:\n",
    "    print(\"Three digit number\")\n",
    "elif 999 < num < 9999:\n",
    "    print(\"Four digit number\")\n",
    "else:\n",
    "    print(\"Number is not in the mentioned range\")"
   ]
  },
  {
   "cell_type": "markdown",
   "metadata": {},
   "source": [
    "Note: Python does not provide switch or case statements as in other languages, but we can use if..elif...statements to simulate switch"
   ]
  },
  {
   "cell_type": "code",
   "execution_count": 15,
   "metadata": {},
   "outputs": [
    {
     "name": "stdout",
     "output_type": "stream",
     "text": [
      "December Month\n"
     ]
    }
   ],
   "source": [
    "# Program to display the month name\n",
    "month_num = 12\n",
    "\n",
    "if month_num == 1:\n",
    "    print(\"January Month\")\n",
    "elif month_num == 2:\n",
    "    print(\"February Month\")\n",
    "elif month_num == 3:\n",
    "    print(\"March Month\")\n",
    "elif month_num == 4:\n",
    "    print(\"April Month\")\n",
    "elif month_num == 5:\n",
    "    print(\"May Month\")\n",
    "elif month_num == 6:\n",
    "    print(\"June Month\")\n",
    "elif month_num == 7:\n",
    "    print(\"July Month\")    \n",
    "elif month_num == 8:\n",
    "    print(\"August Month\")\n",
    "elif month_num == 9:\n",
    "    print(\"September Month\")    \n",
    "elif month_num == 10:\n",
    "    print(\"October Month\")\n",
    "elif month_num == 11:\n",
    "    print(\"November Month\")   \n",
    "elif month_num == 12:\n",
    "    print(\"December Month\")\n",
    "else:\n",
    "    print(\"Enter a valid number\")"
   ]
  },
  {
   "cell_type": "markdown",
   "metadata": {},
   "source": [
    "## 4. Nested if Statements"
   ]
  },
  {
   "cell_type": "code",
   "execution_count": 16,
   "metadata": {},
   "outputs": [
    {
     "name": "stdout",
     "output_type": "stream",
     "text": [
      "Positive number\n"
     ]
    }
   ],
   "source": [
    "# Program to verify whether the number is positive or not\n",
    "num = 20\n",
    "if num >= 0:\n",
    "    if num == 0:\n",
    "        print(\"Zero\")\n",
    "    else:\n",
    "        print(\"Positive number\")\n",
    "else:\n",
    "    print(\"Negative number\")"
   ]
  }
 ],
 "metadata": {
  "kernelspec": {
   "display_name": "Python 3",
   "language": "python",
   "name": "python3"
  },
  "language_info": {
   "codemirror_mode": {
    "name": "ipython",
    "version": 3
   },
   "file_extension": ".py",
   "mimetype": "text/x-python",
   "name": "python",
   "nbconvert_exporter": "python",
   "pygments_lexer": "ipython3",
   "version": "3.7.4"
  }
 },
 "nbformat": 4,
 "nbformat_minor": 2
}
