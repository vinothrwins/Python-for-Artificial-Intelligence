{
 "cells": [
  {
   "cell_type": "markdown",
   "metadata": {},
   "source": [
    "## Comparison or Relational Operators"
   ]
  },
  {
   "cell_type": "markdown",
   "metadata": {},
   "source": [
    "Comparison operators are used to compare values. It either returns True or False according to the condition."
   ]
  },
  {
   "cell_type": "code",
   "execution_count": 3,
   "metadata": {},
   "outputs": [
    {
     "name": "stdout",
     "output_type": "stream",
     "text": [
      "20 > 10 is True\n"
     ]
    }
   ],
   "source": [
    "# Sample code for Comparison Operators \n",
    "a = 20\n",
    "b = 10\n",
    "\n",
    "# Greater Than \n",
    "print('{} > {} is'.format(a,b),a>b)"
   ]
  },
  {
   "cell_type": "code",
   "execution_count": 4,
   "metadata": {},
   "outputs": [
    {
     "name": "stdout",
     "output_type": "stream",
     "text": [
      "20 < 10 is False\n"
     ]
    }
   ],
   "source": [
    "# Less Than\n",
    "print('{} < {} is'.format(a,b),a<b)"
   ]
  },
  {
   "cell_type": "code",
   "execution_count": 5,
   "metadata": {
    "scrolled": true
   },
   "outputs": [
    {
     "name": "stdout",
     "output_type": "stream",
     "text": [
      "20 == 10 is False\n"
     ]
    }
   ],
   "source": [
    "# Equal To\n",
    "print('{} == {} is'.format(a,b),a==b)"
   ]
  },
  {
   "cell_type": "code",
   "execution_count": 6,
   "metadata": {},
   "outputs": [
    {
     "name": "stdout",
     "output_type": "stream",
     "text": [
      "20 != 10 is True\n"
     ]
    }
   ],
   "source": [
    "# Not Equal To \n",
    "print('{} != {} is'.format(a,b),a!=b)"
   ]
  },
  {
   "cell_type": "code",
   "execution_count": 7,
   "metadata": {},
   "outputs": [
    {
     "name": "stdout",
     "output_type": "stream",
     "text": [
      "20 >= 10 is True\n"
     ]
    }
   ],
   "source": [
    "# Greater than or equal to\n",
    "print('{} >= {} is'.format(a,b),a>=b)"
   ]
  },
  {
   "cell_type": "code",
   "execution_count": 8,
   "metadata": {},
   "outputs": [
    {
     "name": "stdout",
     "output_type": "stream",
     "text": [
      "20 <= 10 is False\n"
     ]
    }
   ],
   "source": [
    "# Less than or equal to \n",
    "print('{} <= {} is'.format(a,b),a<=b)"
   ]
  },
  {
   "cell_type": "markdown",
   "metadata": {},
   "source": [
    "## Logical Operators in Python"
   ]
  },
  {
   "cell_type": "code",
   "execution_count": 14,
   "metadata": {},
   "outputs": [
    {
     "name": "stdout",
     "output_type": "stream",
     "text": [
      "a and b is False\n",
      "False\n"
     ]
    }
   ],
   "source": [
    "# Sample code for Logical Operators \n",
    "\n",
    "a = True\n",
    "b = False\n",
    "\n",
    "x = 50\n",
    "y= 100\n",
    "\n",
    "# 'and' Operator\n",
    "print('a and b is',a and b)\n",
    "print(x==y and x < y)"
   ]
  },
  {
   "cell_type": "code",
   "execution_count": 15,
   "metadata": {},
   "outputs": [
    {
     "name": "stdout",
     "output_type": "stream",
     "text": [
      "a or b is True\n",
      "True\n"
     ]
    }
   ],
   "source": [
    "# 'or' Operator\n",
    "print('a or b is',a or b)\n",
    "print(x==y or x < y)"
   ]
  },
  {
   "cell_type": "code",
   "execution_count": 16,
   "metadata": {},
   "outputs": [
    {
     "name": "stdout",
     "output_type": "stream",
     "text": [
      "not a is False\n",
      "True\n",
      "False\n"
     ]
    }
   ],
   "source": [
    "# 'not' Operator \n",
    "print('not a is',not a)\n",
    "print(not x==y)\n",
    "print(not x < y) "
   ]
  }
 ],
 "metadata": {
  "kernelspec": {
   "display_name": "Python 3",
   "language": "python",
   "name": "python3"
  },
  "language_info": {
   "codemirror_mode": {
    "name": "ipython",
    "version": 3
   },
   "file_extension": ".py",
   "mimetype": "text/x-python",
   "name": "python",
   "nbconvert_exporter": "python",
   "pygments_lexer": "ipython3",
   "version": "3.7.4"
  }
 },
 "nbformat": 4,
 "nbformat_minor": 2
}
