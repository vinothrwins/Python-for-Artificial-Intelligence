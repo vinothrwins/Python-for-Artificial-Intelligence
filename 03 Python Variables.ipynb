{
 "cells": [
  {
   "cell_type": "markdown",
   "metadata": {},
   "source": [
    "# Python Variables"
   ]
  },
  {
   "cell_type": "markdown",
   "metadata": {},
   "source": [
    "## What is a Variable?"
   ]
  },
  {
   "cell_type": "markdown",
   "metadata": {},
   "source": [
    "Variables are the reserved memory locations to store values(data). This means that when you create a variable you reserve some space in memory."
   ]
  },
  {
   "cell_type": "markdown",
   "metadata": {},
   "source": [
    "## Location of Variable"
   ]
  },
  {
   "cell_type": "markdown",
   "metadata": {},
   "source": [
    "id is used to find the address or location of the variables."
   ]
  },
  {
   "cell_type": "code",
   "execution_count": 17,
   "metadata": {},
   "outputs": [
    {
     "name": "stdout",
     "output_type": "stream",
     "text": [
      "140727747847152\n",
      "2177089369648\n",
      "2177060524464\n"
     ]
    }
   ],
   "source": [
    "# id is used to find the address of the variables \n",
    "age = 20\n",
    "print(id(age))\n",
    "\n",
    "name =\"Python\"\n",
    "print(id(name))\n",
    "\n",
    "company = \"\" \n",
    "print(id(company))"
   ]
  },
  {
   "cell_type": "markdown",
   "metadata": {},
   "source": [
    "## Rules for Python Variables"
   ]
  },
  {
   "cell_type": "markdown",
   "metadata": {},
   "source": [
    "* An variable is a sequence of letters such as uppercase(A to Z),lowercase(a to z),digits(0 to 9) and an underscore (_) ie “Alphanumeric “ characters.\n",
    "* It does not allow punctuation characters such as @, $, and % within variable.\n",
    "* It is a case sensitive ( Eg: Students and student are different variable)\n",
    "* Reserved words cannot be used as variable.\n",
    "* It cannot start with a digit. (Python thinks it is a number)\n",
    "\n",
    "Eg:  1student is invalid \n",
    "\n",
    "    student1 is valid \n",
    "\t      "
   ]
  },
  {
   "cell_type": "markdown",
   "metadata": {},
   "source": [
    "## Creating and Assigning Values to Variables"
   ]
  },
  {
   "cell_type": "markdown",
   "metadata": {},
   "source": [
    "A variable is created the moment you first assign a value to it. The equal sign (=) is used to assign values to variables."
   ]
  },
  {
   "cell_type": "code",
   "execution_count": 18,
   "metadata": {},
   "outputs": [
    {
     "name": "stdout",
     "output_type": "stream",
     "text": [
      "12345 Santosh 80.5\n"
     ]
    }
   ],
   "source": [
    "# Declaring the variables \n",
    "rollnumber  = 12345 # rollnumber  is integer\n",
    "name = \"Santosh\" # name is string\n",
    "marks = 80.5  # marks is float\n",
    "print(rollnumber,name,marks)"
   ]
  },
  {
   "cell_type": "markdown",
   "metadata": {},
   "source": [
    "<b>Conclusion:</b> Python variables do not need explicit declaration to reserve memory space. The declaration happens automatically when you assign a value to a variable. Based on the data type of a variable, the interpreter allocates memory and decides what can be stored in the reserved memory. Note: An interpreter is a program that reads and executes code"
   ]
  },
  {
   "cell_type": "markdown",
   "metadata": {},
   "source": [
    "## Multiple Assignment"
   ]
  },
  {
   "cell_type": "code",
   "execution_count": 19,
   "metadata": {},
   "outputs": [
    {
     "name": "stdout",
     "output_type": "stream",
     "text": [
      "10 20 30 40\n"
     ]
    }
   ],
   "source": [
    "# 1. Multiple variables in single row\n",
    "a,b,c,d = 10,20,30,40\n",
    "print(a,b,c,d)"
   ]
  },
  {
   "cell_type": "code",
   "execution_count": 20,
   "metadata": {},
   "outputs": [
    {
     "name": "stdout",
     "output_type": "stream",
     "text": [
      "Santosh 12345 85.75\n"
     ]
    }
   ],
   "source": [
    "# 2. Multiple variables of different data types\n",
    "name,rollnumber,marks=\"Santosh\",12345,85.75\n",
    "print(name,rollnumber,marks)"
   ]
  },
  {
   "cell_type": "code",
   "execution_count": 21,
   "metadata": {},
   "outputs": [
    {
     "name": "stdout",
     "output_type": "stream",
     "text": [
      "DataScience DataScience DataScience\n"
     ]
    }
   ],
   "source": [
    "# 3. Single value to several variables\n",
    "graph1 = graph2 = graph3 = \"DataScience\"\n",
    "print(graph1,graph2,graph3)"
   ]
  },
  {
   "cell_type": "markdown",
   "metadata": {},
   "source": [
    "## Memory Allocation"
   ]
  },
  {
   "cell_type": "markdown",
   "metadata": {},
   "source": [
    "If the value is same, the memory location will be also same."
   ]
  },
  {
   "cell_type": "code",
   "execution_count": 22,
   "metadata": {},
   "outputs": [
    {
     "name": "stdout",
     "output_type": "stream",
     "text": [
      "2177132049584\n",
      "2177132049584\n"
     ]
    }
   ],
   "source": [
    "# id is used to find the address of the varaible\n",
    "print(id(graph1))\n",
    "print(id(graph2))"
   ]
  },
  {
   "cell_type": "code",
   "execution_count": 23,
   "metadata": {},
   "outputs": [
    {
     "name": "stdout",
     "output_type": "stream",
     "text": [
      "2177089369648\n"
     ]
    }
   ],
   "source": [
    "# Updating the value of varible (graph2) and checking the memory location\n",
    "graph2= \"Python\"\n",
    "print(id(graph2))"
   ]
  },
  {
   "cell_type": "markdown",
   "metadata": {},
   "source": [
    "<b>Conclusion:</b> The performance of our coding depends on 2 parameters\n",
    "1. Code logic\n",
    "\n",
    "2. Memory allocation(how we handle variables)"
   ]
  }
 ],
 "metadata": {
  "kernelspec": {
   "display_name": "Python 3",
   "language": "python",
   "name": "python3"
  },
  "language_info": {
   "codemirror_mode": {
    "name": "ipython",
    "version": 3
   },
   "file_extension": ".py",
   "mimetype": "text/x-python",
   "name": "python",
   "nbconvert_exporter": "python",
   "pygments_lexer": "ipython3",
   "version": "3.7.4"
  }
 },
 "nbformat": 4,
 "nbformat_minor": 2
}
