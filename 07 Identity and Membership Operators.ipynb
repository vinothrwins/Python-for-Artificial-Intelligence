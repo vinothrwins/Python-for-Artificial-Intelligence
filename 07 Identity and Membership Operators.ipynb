{
 "cells": [
  {
   "cell_type": "markdown",
   "metadata": {},
   "source": [
    "## Special Operators"
   ]
  },
  {
   "cell_type": "markdown",
   "metadata": {},
   "source": [
    "Python language offers some special type of operators like the identity operator or the membership operator. They are described below with examples."
   ]
  },
  {
   "cell_type": "markdown",
   "metadata": {},
   "source": [
    "## Identity Operators"
   ]
  },
  {
   "cell_type": "markdown",
   "metadata": {},
   "source": [
    "* Identity operators are used to compare the memory locations of two objects.\n",
    "* 'is' and 'is not' are the identity operators in Python\n",
    "* Output will be boolean value ( TRUE or FALSE)"
   ]
  },
  {
   "attachments": {
    "special%201.PNG": {
     "image/png": "[encoded data removed]"
    }
   },
   "cell_type": "markdown",
   "metadata": {},
   "source": [
    "![special%201.PNG](attachment:special%201.PNG)"
   ]
  },
  {
   "cell_type": "markdown",
   "metadata": {},
   "source": [
    "<b> Note:</b> For understanding purpose retriving id details (i.e) memory allocation. But in real time you can directly use 'is' operator. No need to verify the memory address."
   ]
  },
  {
   "cell_type": "code",
   "execution_count": 1,
   "metadata": {},
   "outputs": [
    {
     "name": "stdout",
     "output_type": "stream",
     "text": [
      "memory location of x is 140727747846832\n",
      "memory location of y is 140727747846832\n",
      "True\n"
     ]
    }
   ],
   "source": [
    "# Example 1 - Numbers using 'is' operator\n",
    "x = 10\n",
    "print(\"memory location of x is\",id(x))\n",
    "\n",
    "y = 10\n",
    "print(\"memory location of y is\",id(y))\n",
    "\n",
    "print (x is y) #10 is object created once both x and y points to same object"
   ]
  },
  {
   "cell_type": "code",
   "execution_count": 2,
   "metadata": {},
   "outputs": [
    {
     "name": "stdout",
     "output_type": "stream",
     "text": [
      "memory location of a is 1956324537904\n",
      "memory location of b is 1956324537904\n",
      "True\n"
     ]
    }
   ],
   "source": [
    "# Example 2 - String using 'is' operator\n",
    "a = \"Python\"\n",
    "print(\"memory location of a is\",id(a))\n",
    "\n",
    "b = \"Python\"\n",
    "print(\"memory location of b is\",id(b))\n",
    "\n",
    "# \"Python\" is object created once both a and b points to same object\n",
    "print (a is b)"
   ]
  },
  {
   "cell_type": "code",
   "execution_count": 3,
   "metadata": {},
   "outputs": [
    {
     "name": "stdout",
     "output_type": "stream",
     "text": [
      "memory location of l1 is 1954219311944\n",
      "memory location of l2 is 1954219312008\n",
      "False\n"
     ]
    }
   ],
   "source": [
    "# Example 3  - List using 'is' operator\n",
    "l1 = [1,2,3,4]\n",
    "print(\"memory location of l1 is\",id(l1))\n",
    "\n",
    "l2 = [1,2,3,4]\n",
    "print(\"memory location of l2 is\",id(l2))\n",
    "\n",
    "print (l1 is l2) # list l1 and l1 will create a separate objects "
   ]
  },
  {
   "cell_type": "code",
   "execution_count": 4,
   "metadata": {},
   "outputs": [
    {
     "name": "stdout",
     "output_type": "stream",
     "text": [
      "False\n",
      "True\n"
     ]
    }
   ],
   "source": [
    "# Example 4 - Numbers using 'is not' operator\n",
    "x = 10\n",
    "y = 10\n",
    "print (x is not y) \n",
    "\n",
    "a = 20 \n",
    "b = 15\n",
    "\n",
    "print(a is not b)"
   ]
  },
  {
   "cell_type": "code",
   "execution_count": 5,
   "metadata": {},
   "outputs": [
    {
     "name": "stdout",
     "output_type": "stream",
     "text": [
      "False\n",
      "True\n"
     ]
    }
   ],
   "source": [
    "# Example 5 - String using 'is not' operator\n",
    "s1 = \"Python\"\n",
    "s2 = \"Python\"\n",
    "print (s1 is not s2) \n",
    "\n",
    "s3 = \"Python\"\n",
    "s4 = \"Java\"\n",
    "print (s3 is not s4) "
   ]
  },
  {
   "cell_type": "code",
   "execution_count": 6,
   "metadata": {},
   "outputs": [
    {
     "name": "stdout",
     "output_type": "stream",
     "text": [
      "True\n"
     ]
    }
   ],
   "source": [
    "# Example 6  - List using 'is' operator\n",
    "l1 = [1,2,3,4]\n",
    "l2 = [1,2,3,4]\n",
    "print (l1 is not l2) "
   ]
  },
  {
   "cell_type": "markdown",
   "metadata": {},
   "source": [
    "### Conclusion"
   ]
  },
  {
   "cell_type": "markdown",
   "metadata": {},
   "source": [
    "* 'is' operator will display true if the memory address is same and\n",
    "* 'is not' operator will display true if the memory address is different."
   ]
  },
  {
   "cell_type": "markdown",
   "metadata": {},
   "source": [
    "## Membership Operators"
   ]
  },
  {
   "cell_type": "markdown",
   "metadata": {},
   "source": [
    "* Membership operators are used to verify whether a value or variable is found in a sequence (Eg: string, list, tuple and dictionary)\n",
    "* 'in' and 'not in' are the membership operators in Python.\n",
    "* Output will be boolean value ( TRUE or FALSE)"
   ]
  },
  {
   "attachments": {
    "special%202.PNG": {
     "image/png": "[encoded data removed]"
    }
   },
   "cell_type": "markdown",
   "metadata": {},
   "source": [
    "![special%202.PNG](attachment:special%202.PNG)"
   ]
  },
  {
   "cell_type": "code",
   "execution_count": 7,
   "metadata": {
    "scrolled": true
   },
   "outputs": [
    {
     "name": "stdout",
     "output_type": "stream",
     "text": [
      "True\n",
      "True\n",
      "False\n"
     ]
    }
   ],
   "source": [
    "# Example 1 - List using 'in' operator\n",
    "mylist = [1,2.5,\"Python\",10]\n",
    "print(10 in mylist)\n",
    "print(\"Python\" in mylist)\n",
    "print(5 in mylist)"
   ]
  },
  {
   "cell_type": "code",
   "execution_count": 9,
   "metadata": {},
   "outputs": [
    {
     "name": "stdout",
     "output_type": "stream",
     "text": [
      "True\n",
      "False\n"
     ]
    }
   ],
   "source": [
    "# Example 2 - List using 'not in' operator\n",
    "mylist2 = [1,12.5,\"Java\",35]\n",
    "print(10 not in mylist2)\n",
    "print(\"Java\" not in mylist2)"
   ]
  },
  {
   "cell_type": "markdown",
   "metadata": {},
   "source": [
    "### Conclusion"
   ]
  },
  {
   "cell_type": "markdown",
   "metadata": {},
   "source": [
    "* 'in' operator will display true if the value is found in the sequence and\n",
    "* 'not in' operator will display true if the value is not found in the sequence."
   ]
  }
 ],
 "metadata": {
  "kernelspec": {
   "display_name": "Python 3",
   "language": "python",
   "name": "python3"
  },
  "language_info": {
   "codemirror_mode": {
    "name": "ipython",
    "version": 3
   },
   "file_extension": ".py",
   "mimetype": "text/x-python",
   "name": "python",
   "nbconvert_exporter": "python",
   "pygments_lexer": "ipython3",
   "version": "3.7.4"
  }
 },
 "nbformat": 4,
 "nbformat_minor": 2
}
