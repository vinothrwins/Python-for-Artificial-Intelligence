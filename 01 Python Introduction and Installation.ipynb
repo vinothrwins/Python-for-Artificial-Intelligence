{
 "cells": [
  {
   "cell_type": "markdown",
   "metadata": {},
   "source": [
    "All the materials available in this url : https://aiforevery1.com/python/"
   ]
  },
  {
   "cell_type": "markdown",
   "metadata": {},
   "source": [
    "## What is Python?"
   ]
  },
  {
   "cell_type": "markdown",
   "metadata": {},
   "source": [
    "* Python is a high-level, interactive, interpreted and object-oriented programming language.\n",
    "* It was created by Guido van Rossum, and released in 1991.\n",
    "\n",
    "* Python is High Level - Written in a form that is close to our human language. No particular knowledge of the hardware is needed as high level languages create programs that are portable and not tied to a particular computer or microchip.\n",
    "\n",
    "* Python is Interactive – Programmer can interact with the interpreter directly to write your programs using Python prompt.\n",
    "\n",
    "* Python is Interpreted − Python is processed at runtime by the interpreter. You do not need to compile your program before executing it.\n",
    "\n",
    "* Python is Object-Oriented − Python supports all the Object-Oriented techniques such as Class, Object, Methods, Inheritance ,Encapsulation and Polymorphism\n"
   ]
  },
  {
   "cell_type": "markdown",
   "metadata": {},
   "source": [
    "## What is Scope of Python?"
   ]
  },
  {
   "cell_type": "markdown",
   "metadata": {},
   "source": [
    "Python in used to create:\n",
    "\n",
    "* Web Applications\n",
    "\n",
    "* Chatbots\n",
    "\n",
    "* Video Games\n",
    "\n",
    "* Automating Application\n",
    "\n",
    "* Artificial Intelligence algorithms\n",
    "\n",
    "* Desktop Applications..etc..,"
   ]
  },
  {
   "cell_type": "markdown",
   "metadata": {},
   "source": [
    "## How easy to learn Python?"
   ]
  },
  {
   "cell_type": "markdown",
   "metadata": {},
   "source": [
    "* Python has a simple syntax similar to the English language.\n",
    "\n",
    "* No need of programming background.\n",
    "\n",
    "* Simplest programming language when compared to all other programming languages.\n"
   ]
  },
  {
   "cell_type": "markdown",
   "metadata": {},
   "source": [
    "## Features of Python"
   ]
  },
  {
   "cell_type": "markdown",
   "metadata": {},
   "source": [
    "* Simple and easy to learn\n",
    "\n",
    "* Free ware and open source\n",
    "\n",
    "* High Level programming language\n",
    "\n",
    "* Platform Independent\n",
    "\n",
    "* Portable\n",
    "\n",
    "* Dynamically Typed\n"
   ]
  },
  {
   "cell_type": "markdown",
   "metadata": {},
   "source": [
    "## Limitations of Python"
   ]
  },
  {
   "cell_type": "markdown",
   "metadata": {},
   "source": [
    "* It is not suitable for Enterprise application\n",
    "\n",
    "* It is not used for mobile application"
   ]
  },
  {
   "cell_type": "markdown",
   "metadata": {},
   "source": [
    "## Who is using Python?"
   ]
  },
  {
   "cell_type": "markdown",
   "metadata": {},
   "source": [
    "* NASA\n",
    "\n",
    "* Google\n",
    "\n",
    "* Facebook\n",
    "\n",
    "* Netflix\n",
    "\n",
    "* Instagram\n",
    "\n",
    "* Dropbox\n",
    "\n",
    "* Quora\n",
    "\n",
    "* HortonWorks\n",
    "\n",
    "* Spotify\n",
    "\n",
    "* Reddit ..etc.."
   ]
  },
  {
   "cell_type": "markdown",
   "metadata": {},
   "source": [
    "## Which is best Python IDE ?\n",
    "\n",
    "IDE means Integrated Development Environment. We have many python IDE tools, each tool is having their own merits and demerits. But my criteria is, both the beginners and advanced user should feel easy to use the Python IDE.\n",
    "\n",
    "Hence, Python 3, Anaconda package and Jupyter IDE will be the best combination to learn python easily.\n",
    "\n",
    "Anaconda is a package manager, an environment manager, a Python distribution, and a collection of over 1,500+ open source packages. Anaconda is free and easy to install"
   ]
  },
  {
   "cell_type": "markdown",
   "metadata": {},
   "source": [
    "## Installation Steps of Path "
   ]
  },
  {
   "cell_type": "markdown",
   "metadata": {},
   "source": [
    "https://aiforevery1.com/pythoninstallation/"
   ]
  }
 ],
 "metadata": {
  "kernelspec": {
   "display_name": "Python 3",
   "language": "python",
   "name": "python3"
  },
  "language_info": {
   "codemirror_mode": {
    "name": "ipython",
    "version": 3
   },
   "file_extension": ".py",
   "mimetype": "text/x-python",
   "name": "python",
   "nbconvert_exporter": "python",
   "pygments_lexer": "ipython3",
   "version": "3.7.4"
  }
 },
 "nbformat": 4,
 "nbformat_minor": 2
}
