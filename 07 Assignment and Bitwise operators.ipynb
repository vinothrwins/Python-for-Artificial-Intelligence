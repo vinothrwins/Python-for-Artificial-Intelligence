{
 "cells": [
  {
   "cell_type": "markdown",
   "metadata": {},
   "source": [
    "## Augmented Assignment Operator"
   ]
  },
  {
   "cell_type": "markdown",
   "metadata": {},
   "source": [
    "* Assignment operators are used in Python to assign values to variables\n",
    "\n",
    "  Eg: a = 10\n",
    "  \n",
    "* It combines assignment operator with other logical operators like addition, multiplication etc.\n",
    "* This operators that allows to write shortcut assignment statement"
   ]
  },
  {
   "cell_type": "code",
   "execution_count": 1,
   "metadata": {},
   "outputs": [
    {
     "name": "stdout",
     "output_type": "stream",
     "text": [
      "Simple expression value is 2\n"
     ]
    }
   ],
   "source": [
    "# Simple Expression\n",
    "i = 1\n",
    "i = i + 1\n",
    "print('Simple expression value is',i)"
   ]
  },
  {
   "cell_type": "code",
   "execution_count": 2,
   "metadata": {},
   "outputs": [
    {
     "name": "stdout",
     "output_type": "stream",
     "text": [
      "Additional Assignment value is 2\n"
     ]
    }
   ],
   "source": [
    "# Additional Assignment\n",
    "j = 1 \n",
    "j +=1   # This means j = j + 1 \n",
    "print('Additional Assignment value is',j)"
   ]
  },
  {
   "cell_type": "code",
   "execution_count": 3,
   "metadata": {},
   "outputs": [
    {
     "name": "stdout",
     "output_type": "stream",
     "text": [
      "Subtraction Assignment value is -1\n"
     ]
    }
   ],
   "source": [
    "# Subtraction Assignment\n",
    "k=1\n",
    "k -= 2  # k = k -2 \n",
    "print('Subtraction Assignment value is',k)"
   ]
  },
  {
   "cell_type": "code",
   "execution_count": 4,
   "metadata": {},
   "outputs": [
    {
     "name": "stdout",
     "output_type": "stream",
     "text": [
      "Multiplication Assignment value is 4\n"
     ]
    }
   ],
   "source": [
    "# Multiplication Assignment\n",
    "m = 2\n",
    "m *= 2  # m =  m * 2\n",
    "print('Multiplication Assignment value is',m)"
   ]
  },
  {
   "cell_type": "code",
   "execution_count": 5,
   "metadata": {},
   "outputs": [
    {
     "name": "stdout",
     "output_type": "stream",
     "text": [
      "Float Division Assignment value is 2.5\n"
     ]
    }
   ],
   "source": [
    "# Float Division Assignment\n",
    "n=5\n",
    "n /= 2  # n = n / 2 \n",
    "print('Float Division Assignment value is',n)"
   ]
  },
  {
   "cell_type": "code",
   "execution_count": 6,
   "metadata": {},
   "outputs": [
    {
     "name": "stdout",
     "output_type": "stream",
     "text": [
      "Integer division Assignment value is 2\n"
     ]
    }
   ],
   "source": [
    "# Integer division Assignment\n",
    "p = 5\n",
    "p //= 2  # p = p // 2 \n",
    "print('Integer division Assignment value is',p)"
   ]
  },
  {
   "cell_type": "code",
   "execution_count": 7,
   "metadata": {},
   "outputs": [
    {
     "name": "stdout",
     "output_type": "stream",
     "text": [
      "Remainder Assignment value is 1\n"
     ]
    }
   ],
   "source": [
    "# Remainder Assignment\n",
    "q = 5\n",
    "q %= 2 # q = q % 2\n",
    "print('Remainder Assignment value is',q)"
   ]
  },
  {
   "cell_type": "code",
   "execution_count": 8,
   "metadata": {},
   "outputs": [
    {
     "name": "stdout",
     "output_type": "stream",
     "text": [
      "Exponent Assignment value is 9\n"
     ]
    }
   ],
   "source": [
    "# Exponent Assignment\n",
    "r = 3\n",
    "r **= 2   # r= r ** 2 \n",
    "print('Exponent Assignment value is',r)  "
   ]
  },
  {
   "cell_type": "markdown",
   "metadata": {},
   "source": [
    "## Bitwise operators"
   ]
  },
  {
   "cell_type": "markdown",
   "metadata": {},
   "source": [
    "Bitwise operators are used to compare (binary) numbers. It works on bits and performs bit by bit operation"
   ]
  },
  {
   "cell_type": "markdown",
   "metadata": {},
   "source": [
    "Method to convert a number to binary number\n",
    "\n",
    " syntax: '{0:08b}'.format(number)\n",
    " \n",
    "Where,\n",
    "  {} - places a variable into a string\n",
    "  \n",
    "  0 - takes the variable at argument position 0\n",
    "  \n",
    "  : - adds formatting options for this variable (otherwise it would represent decimal 6)\n",
    "  \n",
    "  08 - formats the number to eight digits zero-padded on the left\n",
    "  \n",
    "  b - converts the number to its binary representation"
   ]
  },
  {
   "cell_type": "code",
   "execution_count": 10,
   "metadata": {},
   "outputs": [
    {
     "name": "stdout",
     "output_type": "stream",
     "text": [
      "Binary number for 17 is 00010001\n",
      "Binary number for 10 is 00001010\n"
     ]
    }
   ],
   "source": [
    "#Sample Code\n",
    "a = 17\n",
    "b = 10 \n",
    "\n",
    "print(\"Binary number for {0} is {0:08b}\".format(a))\n",
    "print('Binary number for {0} is {0:08b}'.format(b))"
   ]
  },
  {
   "cell_type": "markdown",
   "metadata": {},
   "source": [
    "### Bitwise operators Sample Code"
   ]
  },
  {
   "cell_type": "code",
   "execution_count": 11,
   "metadata": {},
   "outputs": [
    {
     "name": "stdout",
     "output_type": "stream",
     "text": [
      "Binary AND value is  0\n"
     ]
    }
   ],
   "source": [
    "# Binary AND - Sets each bit to 1 if both bits are 1\n",
    "# 00000000\n",
    "print('Binary AND value is ',a&b)"
   ]
  },
  {
   "cell_type": "code",
   "execution_count": 12,
   "metadata": {},
   "outputs": [
    {
     "name": "stdout",
     "output_type": "stream",
     "text": [
      "Binary OR value is  27\n"
     ]
    }
   ],
   "source": [
    "# Binary OR -  Sets each bit to 1 if one of two bits is 1\n",
    "# 00011011\n",
    "print('Binary OR value is ',a|b)"
   ]
  },
  {
   "cell_type": "code",
   "execution_count": 13,
   "metadata": {},
   "outputs": [
    {
     "name": "stdout",
     "output_type": "stream",
     "text": [
      "Binary XOR value is  27\n"
     ]
    }
   ],
   "source": [
    "# Binary XOR - Sets each bit to 1 if only one of two bits is 1\n",
    "# 00011011\n",
    "print('Binary XOR value is ',a^b)"
   ]
  },
  {
   "cell_type": "code",
   "execution_count": 14,
   "metadata": {},
   "outputs": [
    {
     "name": "stdout",
     "output_type": "stream",
     "text": [
      "Binary Ones Complement is  -18\n"
     ]
    }
   ],
   "source": [
    "# Binary Ones Complement - Inverts all the bits\n",
    "# 11101110\n",
    "print('Binary Ones Complement is ',~a)"
   ]
  },
  {
   "cell_type": "code",
   "execution_count": 15,
   "metadata": {},
   "outputs": [
    {
     "name": "stdout",
     "output_type": "stream",
     "text": [
      "Binary Right Shift is  4\n"
     ]
    }
   ],
   "source": [
    "# Binary Right Shift  \n",
    "'''Shift right by pushing copies of the leftmost bit in from the left, and \n",
    "let the rightmost bits fall off'''\n",
    "# 00000100\n",
    "print('Binary Right Shift is ',a>>2)"
   ]
  },
  {
   "cell_type": "code",
   "execution_count": 17,
   "metadata": {
    "scrolled": true
   },
   "outputs": [
    {
     "name": "stdout",
     "output_type": "stream",
     "text": [
      "Binary Left Shift is  68\n"
     ]
    }
   ],
   "source": [
    "# Binary Left Shift - Shift left by pushing zeros in from the right and let the leftmost bits fall off\n",
    "# 01000100\n",
    "print('Binary Left Shift is ',a<<2)"
   ]
  }
 ],
 "metadata": {
  "kernelspec": {
   "display_name": "Python 3",
   "language": "python",
   "name": "python3"
  },
  "language_info": {
   "codemirror_mode": {
    "name": "ipython",
    "version": 3
   },
   "file_extension": ".py",
   "mimetype": "text/x-python",
   "name": "python",
   "nbconvert_exporter": "python",
   "pygments_lexer": "ipython3",
   "version": "3.7.4"
  }
 },
 "nbformat": 4,
 "nbformat_minor": 2
}
