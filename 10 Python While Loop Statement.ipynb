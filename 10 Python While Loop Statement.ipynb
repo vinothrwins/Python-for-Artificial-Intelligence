{
 "cells": [
  {
   "cell_type": "markdown",
   "metadata": {},
   "source": [
    "## While Loop"
   ]
  },
  {
   "cell_type": "code",
   "execution_count": 1,
   "metadata": {},
   "outputs": [
    {
     "name": "stdout",
     "output_type": "stream",
     "text": [
      "1\n",
      "2\n",
      "3\n",
      "4\n",
      "5\n",
      "6\n",
      "Execution Completed!\n"
     ]
    }
   ],
   "source": [
    "# Program to print numbers in ascending order till the mentioned limit\n",
    "i = 1\n",
    "while i <= 6:\n",
    "    print(i)\n",
    "    i += 1\n",
    "\n",
    "print(\"Execution Completed!\")\n"
   ]
  },
  {
   "cell_type": "markdown",
   "metadata": {},
   "source": [
    "## Using else Statement with Loops"
   ]
  },
  {
   "cell_type": "code",
   "execution_count": 2,
   "metadata": {},
   "outputs": [
    {
     "name": "stdout",
     "output_type": "stream",
     "text": [
      "1\n",
      "2\n",
      "3\n",
      "4\n",
      "5\n",
      "6\n",
      "Else statement is executed at the end as mandatory\n",
      "Execution Completed!\n"
     ]
    }
   ],
   "source": [
    "# Program to print numbers in ascending order till the mentioned limit \n",
    "i = 1\n",
    "while i <= 6:\n",
    "    print(i)\n",
    "    i += 1\n",
    "else:\n",
    "    print(\"Else statement is executed at the end as mandatory\")\n",
    "\n",
    "print(\"Execution Completed!\")"
   ]
  }
 ],
 "metadata": {
  "kernelspec": {
   "display_name": "Python 3",
   "language": "python",
   "name": "python3"
  },
  "language_info": {
   "codemirror_mode": {
    "name": "ipython",
    "version": 3
   },
   "file_extension": ".py",
   "mimetype": "text/x-python",
   "name": "python",
   "nbconvert_exporter": "python",
   "pygments_lexer": "ipython3",
   "version": "3.7.4"
  }
 },
 "nbformat": 4,
 "nbformat_minor": 2
}
