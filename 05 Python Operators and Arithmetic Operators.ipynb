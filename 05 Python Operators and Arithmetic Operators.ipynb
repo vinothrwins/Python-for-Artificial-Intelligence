{
 "cells": [
  {
   "cell_type": "markdown",
   "metadata": {},
   "source": [
    "## What are Operators in Python?"
   ]
  },
  {
   "cell_type": "markdown",
   "metadata": {},
   "source": [
    "Operators are special symbols in Python that carry out arithmetic or logical computation. The value that the operator operates on is called the operand.\n",
    "\n",
    "Example :\n",
    "\n",
    "10 + 5 = 15.\n",
    "\n",
    "Here, + is the operator that performs addition. 10 and 5 are the operands and 15 is the output of the operation."
   ]
  },
  {
   "cell_type": "markdown",
   "metadata": {},
   "source": [
    "## Types of Operator"
   ]
  },
  {
   "cell_type": "markdown",
   "metadata": {},
   "source": [
    "Python language supports the following types of operators.\n",
    "\n",
    "1. Arithmetic Operators\n",
    "2. Comparison (Relational) Operators\n",
    "3. Assignment Operators\n",
    "4. Logical Operators\n",
    "5. Bitwise Operators\n",
    "6. Membership Operators\n",
    "7. Identity Operators"
   ]
  },
  {
   "cell_type": "markdown",
   "metadata": {},
   "source": [
    "Let us have a look on all operators one by one."
   ]
  },
  {
   "cell_type": "markdown",
   "metadata": {},
   "source": [
    "## 1. Arthimetic Operators"
   ]
  },
  {
   "cell_type": "markdown",
   "metadata": {},
   "source": [
    "Arithmetic operators are used to perform mathematical operations like addition, subtraction, multiplication etc."
   ]
  },
  {
   "cell_type": "code",
   "execution_count": 2,
   "metadata": {},
   "outputs": [
    {
     "name": "stdout",
     "output_type": "stream",
     "text": [
      "30\n",
      "Sum of two numbers 30\n",
      "Sum of 20 + 20 + 20 = 30\n"
     ]
    }
   ],
   "source": [
    "#Sample Code\n",
    "a = 10\n",
    "b = 20\n",
    "print(a+b)\n",
    "print('Sum of two numbers',a+b)\n",
    "print('Sum of {1} + {1} + {1} ='.format(a,b),a+b)"
   ]
  },
  {
   "cell_type": "code",
   "execution_count": 3,
   "metadata": {},
   "outputs": [
    {
     "name": "stdout",
     "output_type": "stream",
     "text": [
      "Addition of 20 + 5 = 25\n",
      "Subtraction of 20 - 5 = 15\n",
      "Multiplication of 20 * 5 = 100\n"
     ]
    }
   ],
   "source": [
    "# Sample Code \n",
    "x = 20\n",
    "y = 5\n",
    "\n",
    "# Addition Operator\n",
    "print('Addition of {} + {} ='.format(x,y),x+y)\n",
    "\n",
    "# Subtraction Operator\n",
    "print('Subtraction of {} - {} ='.format(x,y),x-y)\n",
    "\n",
    "# Multiplication Operator\n",
    "print('Multiplication of {} * {} ='.format(x,y),x*y)"
   ]
  },
  {
   "cell_type": "markdown",
   "metadata": {},
   "source": [
    "<b> Note: </b> While multiplying Integer and Float value, the result will be a float value."
   ]
  },
  {
   "cell_type": "code",
   "execution_count": 4,
   "metadata": {},
   "outputs": [
    {
     "name": "stdout",
     "output_type": "stream",
     "text": [
      "4.5\n",
      "<class 'float'>\n"
     ]
    }
   ],
   "source": [
    "#Sample Code\n",
    "j= 3 * 1.5\n",
    "print(j)\n",
    "print(type(j))"
   ]
  },
  {
   "cell_type": "code",
   "execution_count": 5,
   "metadata": {},
   "outputs": [
    {
     "name": "stdout",
     "output_type": "stream",
     "text": [
      "Float Division of 10 / 3 = 3.3333333333333335\n",
      "Integer Division of 10 // 3 = 3\n",
      "Integer Division of Negative Numbers = -4\n"
     ]
    }
   ],
   "source": [
    "# Sample Code\n",
    "x = 10\n",
    "y = 3\n",
    "\n",
    "# Float Division Operator\n",
    "print('Float Division of {} / {} ='.format(x,y),x/y)\n",
    "\n",
    "# Integer Division Operator\n",
    "print('Integer Division of {} // {} ='.format(x,y),x//y)\n",
    "\n",
    "# Integer Division for Negative Value\n",
    "print('Integer Division of Negative Numbers =',-10//3)"
   ]
  },
  {
   "cell_type": "code",
   "execution_count": 6,
   "metadata": {},
   "outputs": [
    {
     "name": "stdout",
     "output_type": "stream",
     "text": [
      "Modulus of 5 % 2 = 1\n"
     ]
    }
   ],
   "source": [
    "# Modulus or Remainder Operator\n",
    "x = 5\n",
    "y = 2\n",
    "print('Modulus of {} % {} ='.format(x,y),x%y)"
   ]
  },
  {
   "cell_type": "code",
   "execution_count": 9,
   "metadata": {
    "scrolled": true
   },
   "outputs": [
    {
     "name": "stdout",
     "output_type": "stream",
     "text": [
      "Exponentiation of 4 raise to the power 2 = 16\n"
     ]
    }
   ],
   "source": [
    "# Exponentiation Operator\n",
    "x = 4\n",
    "y = 2\n",
    "\n",
    "print('Exponentiation of {} raise to the power {} ='.format(x,y),x**y)"
   ]
  },
  {
   "cell_type": "markdown",
   "metadata": {},
   "source": [
    "## Rule of Precedence in Python"
   ]
  },
  {
   "cell_type": "markdown",
   "metadata": {},
   "source": [
    "Please refer this url for Rule of Precedence : https://aiforevery1.com/pythonoperators/"
   ]
  },
  {
   "cell_type": "code",
   "execution_count": 10,
   "metadata": {},
   "outputs": [
    {
     "data": {
      "text/plain": [
       "2"
      ]
     },
     "execution_count": 10,
     "metadata": {},
     "output_type": "execute_result"
    }
   ],
   "source": [
    "# Exponent followed by Subraction   \n",
    "12 - 5 * 2"
   ]
  },
  {
   "cell_type": "code",
   "execution_count": 11,
   "metadata": {},
   "outputs": [
    {
     "data": {
      "text/plain": [
       "14"
      ]
     },
     "execution_count": 11,
     "metadata": {},
     "output_type": "execute_result"
    }
   ],
   "source": [
    "# Parenthesis followed by Multiplication \n",
    "(12 - 5) * 2"
   ]
  }
 ],
 "metadata": {
  "kernelspec": {
   "display_name": "Python 3",
   "language": "python",
   "name": "python3"
  },
  "language_info": {
   "codemirror_mode": {
    "name": "ipython",
    "version": 3
   },
   "file_extension": ".py",
   "mimetype": "text/x-python",
   "name": "python",
   "nbconvert_exporter": "python",
   "pygments_lexer": "ipython3",
   "version": "3.7.4"
  }
 },
 "nbformat": 4,
 "nbformat_minor": 2
}
